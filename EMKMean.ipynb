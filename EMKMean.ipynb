{
  "nbformat": 4,
  "nbformat_minor": 0,
  "metadata": {
    "colab": {
      "name": "EMKMean.ipynb",
      "provenance": [],
      "authorship_tag": "ABX9TyNKMOCV81VksewlsS4EUGM1",
      "include_colab_link": true
    },
    "kernelspec": {
      "name": "python3",
      "display_name": "Python 3"
    },
    "language_info": {
      "name": "python"
    }
  },
  "cells": [
    {
      "cell_type": "markdown",
      "metadata": {
        "id": "view-in-github",
        "colab_type": "text"
      },
      "source": [
        "<a href=\"https://colab.research.google.com/github/SowmyaMadala/Labtasks/blob/main/EMKMean.ipynb\" target=\"_parent\"><img src=\"https://colab.research.google.com/assets/colab-badge.svg\" alt=\"Open In Colab\"/></a>"
      ]
    },
    {
      "cell_type": "code",
      "metadata": {
        "id": "0078SNmf4ZbD"
      },
      "source": [
        "import pandas as pd\n",
        "import numpy as np\n",
        "from sklearn.cluster import KMeans\n",
        "from sklearn.mixture import GaussianMixture\n",
        "import matplotlib.pyplot as plt"
      ],
      "execution_count": null,
      "outputs": []
    },
    {
      "cell_type": "code",
      "metadata": {
        "colab": {
          "base_uri": "https://localhost:8080/",
          "height": 195
        },
        "id": "V2o4worw5XBl",
        "outputId": "e201c925-b990-41b5-c76b-a067e6eafed6"
      },
      "source": [
        "data=pd.read_csv('/content/clusterdata.csv')\n",
        "data.head()"
      ],
      "execution_count": null,
      "outputs": [
        {
          "output_type": "execute_result",
          "data": {
            "text/html": [
              "<div>\n",
              "<style scoped>\n",
              "    .dataframe tbody tr th:only-of-type {\n",
              "        vertical-align: middle;\n",
              "    }\n",
              "\n",
              "    .dataframe tbody tr th {\n",
              "        vertical-align: top;\n",
              "    }\n",
              "\n",
              "    .dataframe thead th {\n",
              "        text-align: right;\n",
              "    }\n",
              "</style>\n",
              "<table border=\"1\" class=\"dataframe\">\n",
              "  <thead>\n",
              "    <tr style=\"text-align: right;\">\n",
              "      <th></th>\n",
              "      <th>Driver_ID</th>\n",
              "      <th>Distance_Feature</th>\n",
              "      <th>Speeding_Feature</th>\n",
              "    </tr>\n",
              "  </thead>\n",
              "  <tbody>\n",
              "    <tr>\n",
              "      <th>0</th>\n",
              "      <td>3423311935</td>\n",
              "      <td>71.24</td>\n",
              "      <td>28</td>\n",
              "    </tr>\n",
              "    <tr>\n",
              "      <th>1</th>\n",
              "      <td>3423313212</td>\n",
              "      <td>52.53</td>\n",
              "      <td>25</td>\n",
              "    </tr>\n",
              "    <tr>\n",
              "      <th>2</th>\n",
              "      <td>3423313724</td>\n",
              "      <td>64.54</td>\n",
              "      <td>27</td>\n",
              "    </tr>\n",
              "    <tr>\n",
              "      <th>3</th>\n",
              "      <td>3423311373</td>\n",
              "      <td>55.69</td>\n",
              "      <td>22</td>\n",
              "    </tr>\n",
              "    <tr>\n",
              "      <th>4</th>\n",
              "      <td>3423310999</td>\n",
              "      <td>54.58</td>\n",
              "      <td>25</td>\n",
              "    </tr>\n",
              "  </tbody>\n",
              "</table>\n",
              "</div>"
            ],
            "text/plain": [
              "    Driver_ID  Distance_Feature  Speeding_Feature\n",
              "0  3423311935             71.24                28\n",
              "1  3423313212             52.53                25\n",
              "2  3423313724             64.54                27\n",
              "3  3423311373             55.69                22\n",
              "4  3423310999             54.58                25"
            ]
          },
          "metadata": {
            "tags": []
          },
          "execution_count": 6
        }
      ]
    },
    {
      "cell_type": "code",
      "metadata": {
        "id": "aEp33L2x53_g"
      },
      "source": [
        "x1=data.values[:,1]\n",
        "x2=data.values[:,2]\n",
        "x=data.values[:,[1,2]]"
      ],
      "execution_count": null,
      "outputs": []
    },
    {
      "cell_type": "code",
      "metadata": {
        "colab": {
          "base_uri": "https://localhost:8080/",
          "height": 265
        },
        "id": "13H6zw246IFo",
        "outputId": "c350c285-ba30-4151-e791-81c7eec1c8f6"
      },
      "source": [
        "plt.figure()\n",
        "plt.scatter(x1,x2)\n",
        "plt.show()"
      ],
      "execution_count": null,
      "outputs": [
        {
          "output_type": "display_data",
          "data": {
            "image/png": "[encoded data removed]",
            "text/plain": [
              "<Figure size 432x288 with 1 Axes>"
            ]
          },
          "metadata": {
            "tags": [],
            "needs_background": "light"
          }
        }
      ]
    },
    {
      "cell_type": "code",
      "metadata": {
        "colab": {
          "base_uri": "https://localhost:8080/"
        },
        "id": "ek3ki43A6lqA",
        "outputId": "2d1f91e2-9b45-4964-f673-b0f832e8c669"
      },
      "source": [
        "gmm=GaussianMixture(3)\n",
        "gmm.fit(x)\n",
        "gmm"
      ],
      "execution_count": null,
      "outputs": [
        {
          "output_type": "execute_result",
          "data": {
            "text/plain": [
              "GaussianMixture(covariance_type='full', init_params='kmeans', max_iter=100,\n",
              "                means_init=None, n_components=3, n_init=1, precisions_init=None,\n",
              "                random_state=None, reg_covar=1e-06, tol=0.001, verbose=0,\n",
              "                verbose_interval=10, warm_start=False, weights_init=None)"
            ]
          },
          "metadata": {
            "tags": []
          },
          "execution_count": 18
        }
      ]
    },
    {
      "cell_type": "code",
      "metadata": {
        "colab": {
          "base_uri": "https://localhost:8080/"
        },
        "id": "IGNdBQmE7NBK",
        "outputId": "0f3d4b89-29de-4917-85e8-2b74779db01c"
      },
      "source": [
        "gmm_pred=gmm.predict(x)\n",
        "print(gmm.means_)\n",
        "print(gmm.covariances_)"
      ],
      "execution_count": null,
      "outputs": [
        {
          "output_type": "stream",
          "text": [
            "[[55.8735514  24.56371123]\n",
            " [47.88709302 38.91478228]\n",
            " [45.75331618 14.28011539]]\n",
            "[[[ 43.19771415   7.63518115]\n",
            "  [  7.63518115  17.64398244]]\n",
            "\n",
            " [[ 74.05012215  21.38174253]\n",
            "  [ 21.38174253  17.01418942]]\n",
            "\n",
            " [[ 17.26524885 -11.60816068]\n",
            "  [-11.60816068  37.86368911]]]\n"
          ],
          "name": "stdout"
        }
      ]
    },
    {
      "cell_type": "code",
      "metadata": {
        "colab": {
          "base_uri": "https://localhost:8080/",
          "height": 265
        },
        "id": "9An8bghX7eSz",
        "outputId": "0000d063-165f-4ec7-ff0c-9487262a9a0c"
      },
      "source": [
        "plt.figure()\n",
        "plt.scatter(x1,x2,c=gmm_pred)\n",
        "plt.show()"
      ],
      "execution_count": null,
      "outputs": [
        {
          "output_type": "display_data",
          "data": {
            "image/png": "[encoded data removed]",
            "text/plain": [
              "<Figure size 432x288 with 1 Axes>"
            ]
          },
          "metadata": {
            "tags": [],
            "needs_background": "light"
          }
        }
      ]
    },
    {
      "cell_type": "code",
      "metadata": {
        "colab": {
          "base_uri": "https://localhost:8080/",
          "height": 282
        },
        "id": "DbUzEM527tg4",
        "outputId": "cef451b9-d5c0-436b-85be-6e08ecc94d76"
      },
      "source": [
        "kmeans=KMeans(3)\n",
        "kmeans.fit(x)\n",
        "plt.figure()\n",
        "plt.scatter(x1,x2,c=kmeans.labels_,cmap='rainbow')\n",
        "plt.scatter(kmeans.cluster_centers_[:,0],kmeans.cluster_centers_[:,1],c='Black',s=100)\n",
        "plt.show()\n",
        "print(kmeans.labels_)"
      ],
      "execution_count": null,
      "outputs": [
        {
          "output_type": "display_data",
          "data": {
            "image/png": "[encoded data removed]",
            "text/plain": [
              "<Figure size 432x288 with 1 Axes>"
            ]
          },
          "metadata": {
            "tags": [],
            "needs_background": "light"
          }
        },
        {
          "output_type": "stream",
          "text": [
            "[2 2 2 2 2 1 2 1 0 1 0 0 1 2 0 0 0 2 2 2 1 0 2]\n"
          ],
          "name": "stdout"
        }
      ]
    }
  ]
}