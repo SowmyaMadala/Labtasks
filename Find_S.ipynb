{
  "nbformat": 4,
  "nbformat_minor": 0,
  "metadata": {
    "colab": {
      "name": "Find-S.ipynb",
      "provenance": [],
      "authorship_tag": "ABX9TyM5NXB+ffOy3RXRmULyYBcl",
      "include_colab_link": true
    },
    "kernelspec": {
      "name": "python3",
      "display_name": "Python 3"
    },
    "language_info": {
      "name": "python"
    }
  },
  "cells": [
    {
      "cell_type": "markdown",
      "metadata": {
        "id": "view-in-github",
        "colab_type": "text"
      },
      "source": [
        "<a href=\"https://colab.research.google.com/github/SowmyaMadala/Labtasks/blob/main/Find_S.ipynb\" target=\"_parent\"><img src=\"https://colab.research.google.com/assets/colab-badge.svg\" alt=\"Open In Colab\"/></a>"
      ]
    },
    {
      "cell_type": "code",
      "metadata": {
        "id": "aQjocULQJ_aN"
      },
      "source": [
        "import pandas as pd\n",
        "import numpy as np"
      ],
      "execution_count": null,
      "outputs": []
    },
    {
      "cell_type": "code",
      "metadata": {
        "colab": {
          "base_uri": "https://localhost:8080/",
          "height": 195
        },
        "id": "qV87MpnnOYRm",
        "outputId": "e1b7b11d-bfbe-4897-d466-9d74dd39079c"
      },
      "source": [
        "data=pd.read_csv('/content/play_tennis.csv')\n",
        "data.head()"
      ],
      "execution_count": null,
      "outputs": [
        {
          "output_type": "execute_result",
          "data": {
            "text/html": [
              "<div>\n",
              "<style scoped>\n",
              "    .dataframe tbody tr th:only-of-type {\n",
              "        vertical-align: middle;\n",
              "    }\n",
              "\n",
              "    .dataframe tbody tr th {\n",
              "        vertical-align: top;\n",
              "    }\n",
              "\n",
              "    .dataframe thead th {\n",
              "        text-align: right;\n",
              "    }\n",
              "</style>\n",
              "<table border=\"1\" class=\"dataframe\">\n",
              "  <thead>\n",
              "    <tr style=\"text-align: right;\">\n",
              "      <th></th>\n",
              "      <th>day</th>\n",
              "      <th>outlook</th>\n",
              "      <th>temp</th>\n",
              "      <th>humidity</th>\n",
              "      <th>wind</th>\n",
              "      <th>play</th>\n",
              "    </tr>\n",
              "  </thead>\n",
              "  <tbody>\n",
              "    <tr>\n",
              "      <th>0</th>\n",
              "      <td>D1</td>\n",
              "      <td>Sunny</td>\n",
              "      <td>Hot</td>\n",
              "      <td>High</td>\n",
              "      <td>Weak</td>\n",
              "      <td>No</td>\n",
              "    </tr>\n",
              "    <tr>\n",
              "      <th>1</th>\n",
              "      <td>D2</td>\n",
              "      <td>Sunny</td>\n",
              "      <td>Hot</td>\n",
              "      <td>High</td>\n",
              "      <td>Strong</td>\n",
              "      <td>No</td>\n",
              "    </tr>\n",
              "    <tr>\n",
              "      <th>2</th>\n",
              "      <td>D3</td>\n",
              "      <td>Overcast</td>\n",
              "      <td>Hot</td>\n",
              "      <td>High</td>\n",
              "      <td>Weak</td>\n",
              "      <td>Yes</td>\n",
              "    </tr>\n",
              "    <tr>\n",
              "      <th>3</th>\n",
              "      <td>D4</td>\n",
              "      <td>Rain</td>\n",
              "      <td>Mild</td>\n",
              "      <td>High</td>\n",
              "      <td>Weak</td>\n",
              "      <td>Yes</td>\n",
              "    </tr>\n",
              "    <tr>\n",
              "      <th>4</th>\n",
              "      <td>D5</td>\n",
              "      <td>Rain</td>\n",
              "      <td>Cool</td>\n",
              "      <td>Normal</td>\n",
              "      <td>Weak</td>\n",
              "      <td>Yes</td>\n",
              "    </tr>\n",
              "  </tbody>\n",
              "</table>\n",
              "</div>"
            ],
            "text/plain": [
              "  day   outlook  temp humidity    wind play\n",
              "0  D1     Sunny   Hot     High    Weak   No\n",
              "1  D2     Sunny   Hot     High  Strong   No\n",
              "2  D3  Overcast   Hot     High    Weak  Yes\n",
              "3  D4      Rain  Mild     High    Weak  Yes\n",
              "4  D5      Rain  Cool   Normal    Weak  Yes"
            ]
          },
          "metadata": {
            "tags": []
          },
          "execution_count": 3
        }
      ]
    },
    {
      "cell_type": "code",
      "metadata": {
        "id": "vWgocqtkQ0KZ",
        "colab": {
          "base_uri": "https://localhost:8080/"
        },
        "outputId": "67b4038d-76fd-45a0-ee59-14a21984b9f5"
      },
      "source": [
        "col=['day','play']\n",
        "concepts=data.drop(columns=col)\n",
        "print(concepts.head())\n",
        "concepts=np.array(concepts)\n",
        "print(concepts)"
      ],
      "execution_count": null,
      "outputs": [
        {
          "output_type": "stream",
          "text": [
            "    outlook  temp humidity    wind\n",
            "0     Sunny   Hot     High    Weak\n",
            "1     Sunny   Hot     High  Strong\n",
            "2  Overcast   Hot     High    Weak\n",
            "3      Rain  Mild     High    Weak\n",
            "4      Rain  Cool   Normal    Weak\n",
            "[['Sunny' 'Hot' 'High' 'Weak']\n",
            " ['Sunny' 'Hot' 'High' 'Strong']\n",
            " ['Overcast' 'Hot' 'High' 'Weak']\n",
            " ['Rain' 'Mild' 'High' 'Weak']\n",
            " ['Rain' 'Cool' 'Normal' 'Weak']\n",
            " ['Rain' 'Cool' 'Normal' 'Strong']\n",
            " ['Overcast' 'Cool' 'Normal' 'Strong']\n",
            " ['Sunny' 'Mild' 'High' 'Weak']\n",
            " ['Sunny' 'Cool' 'Normal' 'Weak']\n",
            " ['Rain' 'Mild' 'Normal' 'Weak']\n",
            " ['Sunny' 'Mild' 'Normal' 'Strong']\n",
            " ['Overcast' 'Mild' 'High' 'Strong']\n",
            " ['Overcast' 'Hot' 'Normal' 'Weak']\n",
            " ['Rain' 'Mild' 'High' 'Strong']]\n"
          ],
          "name": "stdout"
        }
      ]
    },
    {
      "cell_type": "code",
      "metadata": {
        "colab": {
          "base_uri": "https://localhost:8080/"
        },
        "id": "99mk7DB0x7yq",
        "outputId": "bca60699-ac14-40f4-a917-7989406d1e66"
      },
      "source": [
        "target=data['play']\n",
        "target=np.array(target)\n",
        "target"
      ],
      "execution_count": null,
      "outputs": [
        {
          "output_type": "execute_result",
          "data": {
            "text/plain": [
              "array(['No', 'No', 'Yes', 'Yes', 'Yes', 'No', 'Yes', 'No', 'Yes', 'Yes',\n",
              "       'Yes', 'Yes', 'Yes', 'No'], dtype=object)"
            ]
          },
          "metadata": {
            "tags": []
          },
          "execution_count": 10
        }
      ]
    },
    {
      "cell_type": "code",
      "metadata": {
        "colab": {
          "base_uri": "https://localhost:8080/"
        },
        "id": "9mRiILNCyPUk",
        "outputId": "2ba21ca4-8897-4a14-f041-b2cedd65cc1f"
      },
      "source": [
        "for i in range(len(target)):\n",
        "  if(target[i]=='Yes'):\n",
        "    h=concepts[i]\n",
        "    break\n",
        "print(h)"
      ],
      "execution_count": null,
      "outputs": [
        {
          "output_type": "stream",
          "text": [
            "['Overcast' 'Hot' 'High' 'Weak']\n"
          ],
          "name": "stdout"
        }
      ]
    },
    {
      "cell_type": "code",
      "metadata": {
        "colab": {
          "base_uri": "https://localhost:8080/"
        },
        "id": "OYICvW7oyiTr",
        "outputId": "9449eeee-1cdb-4e36-93f4-1f6f82696e66"
      },
      "source": [
        "for i in range(len(target)):\n",
        "  if(target[i]=='Yes'):\n",
        "    for j in range(len(h)):\n",
        "      if(h[j]!=concepts[i][j]):\n",
        "        h[j]='?'\n",
        "print(h)"
      ],
      "execution_count": null,
      "outputs": [
        {
          "output_type": "stream",
          "text": [
            "['?' '?' '?' '?']\n"
          ],
          "name": "stdout"
        }
      ]
    }
  ]
}